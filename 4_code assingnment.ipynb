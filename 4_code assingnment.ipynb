{
 "cells": [
  {
   "cell_type": "markdown",
   "id": "16993013-fce7-49a5-bbab-9d7dd344d3b0",
   "metadata": {},
   "source": [
    "1.\tWrite a Python Program to Find the Factorial of a Number?"
   ]
  },
  {
   "cell_type": "code",
   "execution_count": 1,
   "id": "d85fe104-adf0-4538-95bb-39997242c719",
   "metadata": {},
   "outputs": [
    {
     "name": "stdout",
     "output_type": "stream",
     "text": [
      "1 ,2 ,5 ,10 ,"
     ]
    }
   ],
   "source": [
    "num=10\n",
    "a=range(1,num+1)\n",
    "for i in a:\n",
    "    if num%i==0:\n",
    "        print(i ,\",\",end=\"\")"
   ]
  },
  {
   "cell_type": "markdown",
   "id": "43c30c53-34bb-49ab-82dc-0459a752e373",
   "metadata": {},
   "source": [
    "2.\tWrite a Python Program to Display the multiplication Table?"
   ]
  },
  {
   "cell_type": "code",
   "execution_count": 2,
   "id": "81f13605-ee87-4554-aa61-b3d761c9cebc",
   "metadata": {},
   "outputs": [
    {
     "name": "stdout",
     "output_type": "stream",
     "text": [
      "5\n",
      "10\n",
      "15\n",
      "20\n",
      "25\n",
      "30\n",
      "35\n",
      "40\n",
      "45\n",
      "50\n"
     ]
    }
   ],
   "source": [
    "number=5\n",
    "for i in range(1,11):\n",
    "    print(i*number)"
   ]
  },
  {
   "cell_type": "markdown",
   "id": "b36f7e3c-ab82-4e49-9d54-d2cb6ab18c0a",
   "metadata": {},
   "source": [
    "3.\tWrite a Python Program to Print the Fibonacci sequence?"
   ]
  },
  {
   "cell_type": "code",
   "execution_count": 3,
   "id": "eb3bf373-0008-4d06-9e20-0beafb3ba17e",
   "metadata": {},
   "outputs": [
    {
     "name": "stdout",
     "output_type": "stream",
     "text": [
      "0\n",
      "1\n",
      "1\n",
      "2\n",
      "3\n",
      "5\n",
      "8\n",
      "13\n",
      "21\n",
      "34\n",
      "55\n",
      "89\n",
      "144\n",
      "233\n",
      "377\n",
      "610\n",
      "987\n",
      "1597\n",
      "2584\n",
      "4181\n",
      "6765\n"
     ]
    }
   ],
   "source": [
    "num=20\n",
    "\n",
    "count=0\n",
    "a,b=0,1\n",
    "while count<=num:\n",
    "    print(a)\n",
    "    nth=a+b\n",
    "    a=b\n",
    "    b=nth\n",
    "    count=count+1\n"
   ]
  },
  {
   "cell_type": "markdown",
   "id": "f513a8a5-0ad2-4b59-8b93-ad5ba34d91f1",
   "metadata": {},
   "source": [
    "4.\tWrite a Python Program to Check Armstrong Number?"
   ]
  },
  {
   "cell_type": "code",
   "execution_count": 6,
   "id": "3c5f8ae3-75c8-438f-8b26-4162f33925d1",
   "metadata": {},
   "outputs": [
    {
     "name": "stdin",
     "output_type": "stream",
     "text": [
      " 153\n"
     ]
    },
    {
     "name": "stdout",
     "output_type": "stream",
     "text": [
      "153 is armstrong number\n"
     ]
    }
   ],
   "source": [
    "a=int(input())\n",
    "\n",
    "c=len(str(a))\n",
    "sum=0\n",
    "b=str(a)\n",
    "for i in b:\n",
    "   \n",
    "    x=int(i)\n",
    "    f = x ** c\n",
    "    sum=sum+f\n",
    "    \n",
    "\n",
    "if sum==a:\n",
    "    print(f\"{a} is armstrong number\")\n",
    "else:\n",
    "    print(f\"{a} is not armstrong number\")"
   ]
  },
  {
   "cell_type": "code",
   "execution_count": null,
   "id": "929707e4-607e-4cdc-a27c-f6029536a716",
   "metadata": {},
   "outputs": [],
   "source": []
  },
  {
   "cell_type": "code",
   "execution_count": 1,
   "id": "dad16e24-cab6-4fae-bfb9-6cea5490e134",
   "metadata": {},
   "outputs": [
    {
     "name": "stdin",
     "output_type": "stream",
     "text": [
      " 100\n",
      " 2000\n"
     ]
    },
    {
     "name": "stdout",
     "output_type": "stream",
     "text": [
      "153\n",
      "370\n",
      "371\n",
      "407\n",
      "1634\n"
     ]
    }
   ],
   "source": [
    "\n",
    "first_num=int(input())\n",
    "second_num=int(input())\n",
    "\n",
    "\n",
    "for i in range(first_num,second_num+1):\n",
    "    len_i=len(str(i))\n",
    "    sum=0\n",
    "    temp=i\n",
    "    while temp>0:\n",
    "        x=temp%10\n",
    "        f = x**len_i\n",
    "        sum=sum+f\n",
    "        temp//=10\n",
    "    if i==sum:\n",
    "        print(i)\n",
    " "
   ]
  },
  {
   "cell_type": "code",
   "execution_count": 5,
   "id": "5cc36f9c-9086-4aa9-a8cd-c082615f10be",
   "metadata": {},
   "outputs": [
    {
     "name": "stdin",
     "output_type": "stream",
     "text": [
      " 10\n"
     ]
    },
    {
     "name": "stdout",
     "output_type": "stream",
     "text": [
      "55\n"
     ]
    }
   ],
   "source": [
    "\n",
    "num=int(input())\n",
    "sum=0\n",
    "for i in range(num+1):\n",
    "#    print(i)\n",
    "    sum=sum+i\n",
    "    \n",
    "   \n",
    "print(sum)"
   ]
  },
  {
   "cell_type": "code",
   "execution_count": null,
   "id": "01da5027-20e5-40a1-a024-f5b328843724",
   "metadata": {},
   "outputs": [],
   "source": []
  }
 ],
 "metadata": {
  "kernelspec": {
   "display_name": "Python 3 (ipykernel)",
   "language": "python",
   "name": "python3"
  },
  "language_info": {
   "codemirror_mode": {
    "name": "ipython",
    "version": 3
   },
   "file_extension": ".py",
   "mimetype": "text/x-python",
   "name": "python",
   "nbconvert_exporter": "python",
   "pygments_lexer": "ipython3",
   "version": "3.10.6"
  }
 },
 "nbformat": 4,
 "nbformat_minor": 5
}
