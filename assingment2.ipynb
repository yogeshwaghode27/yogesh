{
 "cells": [
  {
   "cell_type": "markdown",
   "id": "c9e8d112-8b2c-4eda-ae50-10cc4370989c",
   "metadata": {},
   "source": [
    "1.What are the two values of the Boolean data type? How do you write them?\n",
    "\n",
    "\n",
    "ans:Boolean has two type or we can call it has two values : True and False.at the time of writing the boolean type      we alwayas write first letter capitle. result od boolean tyep is either True or False\n",
    "     we use boolean expression usually in logical operater and relational operater "
   ]
  },
  {
   "cell_type": "code",
   "execution_count": 1,
   "id": "939729a8-41c2-4690-9df4-008b98f77206",
   "metadata": {},
   "outputs": [
    {
     "name": "stdout",
     "output_type": "stream",
     "text": [
      "True\n",
      "False\n"
     ]
    }
   ],
   "source": [
    "#example\n",
    "a=True\n",
    "b=False\n",
    "print(a)\n",
    "print(b)"
   ]
  },
  {
   "cell_type": "markdown",
   "id": "a01a49fc-f310-443a-af9f-b125e64bd99b",
   "metadata": {},
   "source": [
    "2.What are the three different types of Boolean operators?\n",
    "\n",
    "\n",
    "ans:The three basic boolean operators are: and, or, not."
   ]
  },
  {
   "cell_type": "markdown",
   "id": "89e2cdca-fb61-4cab-8832-259bb1e8d3fa",
   "metadata": {},
   "source": [
    "3.Make a list of each Boolean operator's truth tables (i.e. every possible combination of Boolean values for the operator and what it evaluate )."
   ]
  },
  {
   "cell_type": "markdown",
   "id": "4fdb5564-00c3-46cf-8ede-157b764a4ad9",
   "metadata": {},
   "source": [
    "ans:\n",
    "    True and True is True.\n",
    "\n",
    "True and False is False.\n",
    "\n",
    "False and True is False.\n",
    "\n",
    "False and False is False."
   ]
  },
  {
   "cell_type": "markdown",
   "id": "0f8b5383-ef5f-47cb-a0c4-d3c7e9d6053b",
   "metadata": {},
   "source": [
    "4. What are the values of the following expressions?.\n",
    "(5 > 4) and (3 == 5)\n",
    "not (5 > 4)\n",
    "(5 > 4) or (3 == 5)\n",
    "not ((5 > 4) or (3 == 5))\n",
    "(True and True) and (True == False)\n",
    "(not False) or (not True)\n"
   ]
  },
  {
   "cell_type": "code",
   "execution_count": 2,
   "id": "ae02d59a-e0b1-4ffb-a524-7fadd689baa7",
   "metadata": {},
   "outputs": [
    {
     "name": "stdout",
     "output_type": "stream",
     "text": [
      "False\n",
      "False\n",
      "True\n",
      "False\n",
      "False\n",
      "True\n"
     ]
    }
   ],
   "source": [
    "print((5 > 4) and (3 == 5))\n",
    "print( not (5 > 4))\n",
    "print((5 > 4) or (3 == 5))\n",
    "print(not ((5 > 4) or (3 == 5)))\n",
    "print((True and True) and (True == False))\n",
    "print((not False) or (not True))\n"
   ]
  },
  {
   "cell_type": "markdown",
   "id": "cb566c2f-11fd-4fa8-8661-44959ac80cd1",
   "metadata": {},
   "source": [
    "5. What are the six comparison operators?\n",
    "\n",
    "\n",
    "ans:. ==, !=, <, >, <=, and >="
   ]
  },
  {
   "cell_type": "markdown",
   "id": "753d31f8-05d4-4eb7-a531-45aaadbbc810",
   "metadata": {},
   "source": [
    "6. How do you tell the difference between the equal to and assignment operators?Describe a condition and when you would use one.\n",
    "\n",
    "\n",
    "ans:1.== is the equal to operator that compares two values and evaluates to a Boolean, and otheside = is the assignment operator that stores a value in a variable"
   ]
  },
  {
   "cell_type": "markdown",
   "id": "57f024f0-ca90-4d37-98d7-ea8284c0943e",
   "metadata": {},
   "source": [
    "7. Identify the three blocks in this code:\n",
    "\n",
    "\n",
    "\n",
    "spam = 0\n",
    "\n",
    "if spam == 10:.\n",
    "\n",
    "print('eggs')\n",
    "\n",
    "if spam > 5:\n",
    "\n",
    "print('bacon')\n",
    "|\n",
    "else:\n",
    "\n",
    "print('ham')\n",
    "\n",
    "print('spam')\n",
    "\n",
    "print('spam')\n"
   ]
  },
  {
   "cell_type": "code",
   "execution_count": 3,
   "id": "01998662-e110-4111-83a1-a6d0f52407e6",
   "metadata": {},
   "outputs": [
    {
     "name": "stdout",
     "output_type": "stream",
     "text": [
      "ham\n",
      "spam\n",
      "spam\n"
     ]
    }
   ],
   "source": [
    "#first_Block\n",
    "spam = 0\n",
    "if spam == 10:\n",
    "    print('eggs')\n",
    "#second_Block\n",
    "if spam > 5:\n",
    "    print('bacon')\n",
    "#Third_Block    \n",
    "else:\n",
    "    print('ham')\n",
    "    print('spam')\n",
    "    print('spam')\n"
   ]
  },
  {
   "cell_type": "markdown",
   "id": "3487e0e6-1fab-4b09-b100-ba9b31085ad7",
   "metadata": {},
   "source": [
    "8. Write code that prints Hello if 1 is stored in spam, prints Howdy if 2 is stored in spam, and prints Greetings! if anything else is stored in spam.\n"
   ]
  },
  {
   "cell_type": "code",
   "execution_count": 4,
   "id": "b35454b8-2016-4d21-af2a-42954cdd43dc",
   "metadata": {},
   "outputs": [
    {
     "name": "stdin",
     "output_type": "stream",
     "text": [
      "Input a no. 1\n"
     ]
    },
    {
     "name": "stdout",
     "output_type": "stream",
     "text": [
      "Hello\n"
     ]
    }
   ],
   "source": [
    "spam = int(input(\"Input a no.\"))\n",
    "if spam == 1:\n",
    "    print(\"Hello\")\n",
    "elif spam == 2:\n",
    "    print(\"Howdy\")\n",
    "else:\n",
    "    print(\"Greetings!\")"
   ]
  },
  {
   "cell_type": "markdown",
   "id": "ec212d81-73d9-44c9-ab81-8b641cd7e442",
   "metadata": {},
   "source": [
    "9.If your programme is stuck in an endless loop, what keys you’ll press?\n",
    "\n",
    "\n",
    "Ans:if our program is stuck in an endless loop we should press cntr+c or try to restart kurnel ."
   ]
  },
  {
   "cell_type": "markdown",
   "id": "7f3553e5-9bb4-4f26-a321-aa5728bc353f",
   "metadata": {},
   "source": [
    "10. How can you tell the difference between break and continue?\n",
    "\n",
    "\n",
    "ans: break is stop the the loop iteration ifter condition satisfy or after break statment loop are stop looping as per given condition and on otherside continue done exactly opposite work after assing continue expression loop start working as it work before and stay loop in continue manner"
   ]
  },
  {
   "cell_type": "code",
   "execution_count": 14,
   "id": "6afbb369-108e-4c95-96b5-808e339c3bab",
   "metadata": {},
   "outputs": [
    {
     "name": "stdout",
     "output_type": "stream",
     "text": [
      "1\n",
      "2\n",
      "3\n",
      "4\n",
      "5\n",
      "Breake\n"
     ]
    },
    {
     "data": {
      "text/plain": [
       "'program for breaked statement'"
      ]
     },
     "execution_count": 14,
     "metadata": {},
     "output_type": "execute_result"
    }
   ],
   "source": [
    "a=[1,2,3,4,5,6,7,8,9,10]\n",
    "for i in a:\n",
    "    if i==6:\n",
    "        print(\"Breake\")\n",
    "        break\n",
    "    print(i)\n",
    "\"\"\"program for breaked statement\"\"\" \n",
    "\n"
   ]
  },
  {
   "cell_type": "code",
   "execution_count": 13,
   "id": "108e0a3c-c261-4d33-9b09-352911581a80",
   "metadata": {},
   "outputs": [
    {
     "name": "stdout",
     "output_type": "stream",
     "text": [
      "1\n",
      "2\n",
      "3\n",
      "4\n",
      "5\n",
      "continue\n",
      "7\n",
      "8\n",
      "9\n",
      "10\n"
     ]
    },
    {
     "data": {
      "text/plain": [
       "'\" program for contunue statement'"
      ]
     },
     "execution_count": 13,
     "metadata": {},
     "output_type": "execute_result"
    }
   ],
   "source": [
    "a=[1,2,3,4,5,6,7,8,9,10]\n",
    "\n",
    "for i in a:\n",
    "    if i ==6:\n",
    "        print(\"continue\")\n",
    "        continue\n",
    "    print(i)    \n",
    "\"\"\"\" program for contunue statement\"\"\"    "
   ]
  },
  {
   "cell_type": "markdown",
   "id": "2f0b3146-9643-44ff-bef9-2decfd07cc35",
   "metadata": {},
   "source": [
    "11. In a for loop, what is the difference between range(10), range(0, 10), and range(0, 10, 1)?\n",
    "\n",
    "\n",
    "ans: as we see accourding rrsult there is no diffrence in result but all three we passing teckique is diffent \n",
    "as we can say that range fuction consider intial value is by default 0 and jump value is 1 always .all above are just three diffrent format for getting same output"
   ]
  },
  {
   "cell_type": "code",
   "execution_count": 21,
   "id": "441e8242-108d-4fd2-bb9f-ed70bf5c265e",
   "metadata": {},
   "outputs": [
    {
     "name": "stdout",
     "output_type": "stream",
     "text": [
      "0\n",
      "1\n",
      "2\n",
      "3\n",
      "4\n",
      "5\n",
      "6\n",
      "7\n",
      "8\n",
      "9\n",
      "********************************************************************\n",
      "0\n",
      "1\n",
      "2\n",
      "3\n",
      "4\n",
      "5\n",
      "6\n",
      "7\n",
      "8\n",
      "9\n",
      "********************************************************************\n",
      "0\n",
      "1\n",
      "2\n",
      "3\n",
      "4\n",
      "5\n",
      "6\n",
      "7\n",
      "8\n",
      "9\n"
     ]
    }
   ],
   "source": [
    "for i in range (10):\n",
    "    print(i)\n",
    "# as given condition range by default take range from 0 and go still 10 as we can say its nothing but as range(0,10)\n",
    "print(\"********************************************************************\")\n",
    "\n",
    "for i in range(0,10):\n",
    "    print(i) \n",
    "# as given condition given range work as start from 0 and go up to 10 and by default its jump value is 1\n",
    "print(\"********************************************************************\")\n",
    "for i in range (0,10,1):# range(initial position,last position,jump value)\n",
    "        print(i)\n",
    "        "
   ]
  },
  {
   "cell_type": "markdown",
   "id": "fdf59301-3396-4caf-83c8-74afca31042a",
   "metadata": {},
   "source": [
    "12. Write a short program that prints the numbers 1 to 10 using a for loop. Then write an equivalent program that prints the numbers 1 to 10 using a while loop.\n"
   ]
  },
  {
   "cell_type": "code",
   "execution_count": 1,
   "id": "b5c98083-670e-4541-b18d-7279c35895b7",
   "metadata": {},
   "outputs": [
    {
     "name": "stdout",
     "output_type": "stream",
     "text": [
      "For Loop\n",
      "1\n",
      "2\n",
      "3\n",
      "4\n",
      "5\n",
      "6\n",
      "7\n",
      "8\n",
      "9\n",
      "10\n",
      "While Loop\n",
      "1\n",
      "2\n",
      "3\n",
      "4\n",
      "5\n",
      "6\n",
      "7\n",
      "8\n",
      "9\n",
      "10\n"
     ]
    }
   ],
   "source": [
    "print(\"For Loop\")\n",
    "for i in range(1,11):\n",
    "    print(i)\n",
    "#Use of While Loop\n",
    "print(\"While Loop\")\n",
    "a =1\n",
    "while a <= 10:\n",
    "    print(a)\n",
    "    a+=1"
   ]
  },
  {
   "cell_type": "markdown",
   "id": "38892973-7436-4d38-8223-1e29f7224e0f",
   "metadata": {},
   "source": [
    "13. If you had a function named bacon() inside a module named spam, how would you call it after importing spam?"
   ]
  },
  {
   "cell_type": "markdown",
   "id": "291fc8da-5998-4bf7-be2b-5db1497050a9",
   "metadata": {},
   "source": [
    "This function can be called with spam.bacon()."
   ]
  }
 ],
 "metadata": {
  "kernelspec": {
   "display_name": "Python 3 (ipykernel)",
   "language": "python",
   "name": "python3"
  },
  "language_info": {
   "codemirror_mode": {
    "name": "ipython",
    "version": 3
   },
   "file_extension": ".py",
   "mimetype": "text/x-python",
   "name": "python",
   "nbconvert_exporter": "python",
   "pygments_lexer": "ipython3",
   "version": "3.10.6"
  }
 },
 "nbformat": 4,
 "nbformat_minor": 5
}
