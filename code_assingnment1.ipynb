{
 "cells": [
  {
   "cell_type": "markdown",
   "id": "f7d36c69-e4ca-4f04-9a28-25204b3a96e5",
   "metadata": {},
   "source": [
    "\n",
    "1. Write a Python program to print &\"Hello Python\"?\n",
    "2. Write a Python program to do arithmetical operations addition and division.?\n",
    "3. Write a Python program to find the area of a triangle?\n",
    "4. Write a Python program to swap two variables?\n",
    "5. Write a Python program to generate a random number?"
   ]
  },
  {
   "cell_type": "code",
   "execution_count": 1,
   "id": "7a03a673-7259-4436-83bc-523f25c271f4",
   "metadata": {},
   "outputs": [
    {
     "name": "stdout",
     "output_type": "stream",
     "text": [
      "hello python\n"
     ]
    }
   ],
   "source": [
    "A= \"hello python\"\n",
    "print(A)"
   ]
  },
  {
   "cell_type": "markdown",
   "id": "588f84df-9143-4d2d-8c4d-e99a045c64ca",
   "metadata": {},
   "source": [
    "2. Write a Python program to do arithmetical operations addition and division.?"
   ]
  },
  {
   "cell_type": "code",
   "execution_count": 2,
   "id": "9c8fee62-8b70-4332-a531-0a80d948fc6c",
   "metadata": {},
   "outputs": [
    {
     "name": "stdin",
     "output_type": "stream",
     "text": [
      "enter the first number: 5\n",
      "enter the second number : 5\n"
     ]
    },
    {
     "name": "stdout",
     "output_type": "stream",
     "text": [
      "addition of given number is  10\n",
      "divition of given number is 1.0\n"
     ]
    }
   ],
   "source": [
    "\n",
    "a=int(input(\"enter the first number:\"))\n",
    "b=int(input(\"enter the second number :\"))\n",
    "c=a+b\n",
    "d=a/b\n",
    "print(f\"addition of given number is  {c}\")\n",
    "print(f\"divition of given number is {d}\")"
   ]
  },
  {
   "cell_type": "markdown",
   "id": "7a37ad2e-c061-4d76-b970-5535e3b2ddb7",
   "metadata": {},
   "source": [
    "3.Write a Python program to find the area of a triangle?"
   ]
  },
  {
   "cell_type": "code",
   "execution_count": 5,
   "id": "34601bd2-c9c3-43fc-82cb-a1705beca9a8",
   "metadata": {},
   "outputs": [
    {
     "name": "stdin",
     "output_type": "stream",
     "text": [
      " enter the lenght: 5\n",
      " enter the breath: 5\n"
     ]
    },
    {
     "name": "stdout",
     "output_type": "stream",
     "text": [
      "area of traingle is :12.5\n"
     ]
    }
   ],
   "source": [
    "lenght=int(input(\" enter the lenght:\"))\n",
    "breath=int(input(\" enter the breath:\"))\n",
    "area=1/2*lenght*breath\n",
    "print(f\"area of traingle is :{area}\")"
   ]
  },
  {
   "cell_type": "markdown",
   "id": "30be45d6-8d37-41c7-a7c0-864725006a57",
   "metadata": {},
   "source": [
    "4.Write a Python program to swap two variables?"
   ]
  },
  {
   "cell_type": "code",
   "execution_count": 14,
   "id": "36efb842-9c5e-4dbd-9868-e2999fa61da5",
   "metadata": {},
   "outputs": [
    {
     "name": "stdin",
     "output_type": "stream",
     "text": [
      "enter the value of x: 10\n",
      "enter the value of y: 20\n"
     ]
    },
    {
     "name": "stdout",
     "output_type": "stream",
     "text": [
      "value of x after swapping is : 20    value of y after swapping is : 10\n"
     ]
    }
   ],
   "source": [
    "x=int(input(\"enter the value of x:\"))\n",
    "y=int(input(\"enter the value of y:\"))\n",
    "temp=x\n",
    "x=temp\n",
    "x=y\n",
    "y=temp\n",
    "print(f\"value of x after swapping is : {x}    value of y after swapping is : {y}\")"
   ]
  },
  {
   "cell_type": "markdown",
   "id": "f5d50207-fe8e-4cb6-a697-83d5429f9f94",
   "metadata": {},
   "source": [
    "5.Write a Python program to generate a random number"
   ]
  },
  {
   "cell_type": "code",
   "execution_count": 18,
   "id": "513daed3-d8b1-4b11-a5ea-5e494eb00ce1",
   "metadata": {},
   "outputs": [
    {
     "name": "stdout",
     "output_type": "stream",
     "text": [
      "0.03375046140951887\n"
     ]
    }
   ],
   "source": [
    "import random  \n",
    "n = random.random()  \n",
    "print(n)  "
   ]
  },
  {
   "cell_type": "code",
   "execution_count": null,
   "id": "ed5ab1e1-60ee-444a-8590-54778ec21a83",
   "metadata": {},
   "outputs": [],
   "source": []
  },
  {
   "cell_type": "code",
   "execution_count": null,
   "id": "162c34b8-bf99-4bcd-a1e9-6ae18d578251",
   "metadata": {},
   "outputs": [],
   "source": []
  },
  {
   "cell_type": "code",
   "execution_count": null,
   "id": "b2f9e692-ee03-456f-bb3c-57e42a4105ef",
   "metadata": {},
   "outputs": [],
   "source": []
  }
 ],
 "metadata": {
  "kernelspec": {
   "display_name": "Python 3 (ipykernel)",
   "language": "python",
   "name": "python3"
  },
  "language_info": {
   "codemirror_mode": {
    "name": "ipython",
    "version": 3
   },
   "file_extension": ".py",
   "mimetype": "text/x-python",
   "name": "python",
   "nbconvert_exporter": "python",
   "pygments_lexer": "ipython3",
   "version": "3.10.6"
  }
 },
 "nbformat": 4,
 "nbformat_minor": 5
}
