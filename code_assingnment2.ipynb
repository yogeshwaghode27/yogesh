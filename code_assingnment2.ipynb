{
 "cells": [
  {
   "cell_type": "markdown",
   "id": "7b520dab-067b-442e-ade5-a6fc4282825a",
   "metadata": {},
   "source": [
    "1. Write a Python program to convert kilometers to miles?\n"
   ]
  },
  {
   "cell_type": "code",
   "execution_count": null,
   "id": "d845a9ba-a6e7-40b4-a4ee-630046f1113f",
   "metadata": {},
   "outputs": [
    {
     "name": "stdin",
     "output_type": "stream",
     "text": [
      "enter kilomiter : 5\n"
     ]
    }
   ],
   "source": [
    "kilometer=float(input(\"enter kilomiter :\"))\n",
    "print(\"kilometer to miles :\",kilometer *0.621371)"
   ]
  },
  {
   "cell_type": "markdown",
   "id": "ff40d4f1-0034-46a2-88eb-5883785763b2",
   "metadata": {},
   "source": [
    "2.Write a Python program to convert Celsius to Fahrenheit?"
   ]
  },
  {
   "cell_type": "code",
   "execution_count": 5,
   "id": "a253078a-c8f8-4773-805e-9ba0e90ef713",
   "metadata": {},
   "outputs": [
    {
     "name": "stdin",
     "output_type": "stream",
     "text": [
      "enter the celsius : 5\n"
     ]
    },
    {
     "name": "stdout",
     "output_type": "stream",
     "text": [
      "Fehrenhei value of given celsius: 41.0\n"
     ]
    }
   ],
   "source": [
    "#Formula\t\n",
    "#(0°C × 9/5) + 32 = 32°F\n",
    "\"\"\"celsius to fehrenheit\"\"\"\n",
    "A=float(input(\"enter the celsius :\"))\n",
    "Fehrenheit=(A*9/5)+32\n",
    "print(\"Fehrenhei value of given celsius:\",Fehrenheit)"
   ]
  },
  {
   "cell_type": "markdown",
   "id": "8293f44e-3fee-418c-a29f-43b6a61ebeb7",
   "metadata": {},
   "source": [
    "3.Write a Python program to display calendar?"
   ]
  },
  {
   "cell_type": "code",
   "execution_count": 4,
   "id": "3a755e9a-3ce6-4ada-9eac-64d480753718",
   "metadata": {},
   "outputs": [
    {
     "name": "stdin",
     "output_type": "stream",
     "text": [
      "enter the year: 2022\n",
      "enter the month: 1\n"
     ]
    },
    {
     "name": "stdout",
     "output_type": "stream",
     "text": [
      "    January 2022\n",
      "Mo Tu We Th Fr Sa Su\n",
      "                1  2\n",
      " 3  4  5  6  7  8  9\n",
      "10 11 12 13 14 15 16\n",
      "17 18 19 20 21 22 23\n",
      "24 25 26 27 28 29 30\n",
      "31\n",
      "\n"
     ]
    }
   ],
   "source": [
    "import calendar\n",
    "yy=int(input(\"enter the year:\"))\n",
    "mm=int(input(\"enter the month:\"))\n",
    "print(calendar.month(yy,mm))"
   ]
  },
  {
   "cell_type": "markdown",
   "id": "9c0a07d0-8144-4bb9-8163-406f281113c1",
   "metadata": {},
   "source": [
    "4.Write a Python program to solve quadratic equation?"
   ]
  },
  {
   "cell_type": "code",
   "execution_count": null,
   "id": "123c63e1-24bf-4b30-9216-74a34a3a2c2d",
   "metadata": {},
   "outputs": [],
   "source": [
    "ax^2+bx+c=0\n",
    "a, b, c\t=\tknown numbers, where a ≠ 0\n",
    "x\t=\tthe unknown"
   ]
  },
  {
   "cell_type": "code",
   "execution_count": 30,
   "id": "4fe6cf25-ec94-40ef-9ec6-9951dabf802a",
   "metadata": {},
   "outputs": [
    {
     "name": "stdin",
     "output_type": "stream",
     "text": [
      "enter the value of a 5\n"
     ]
    },
    {
     "name": "stdout",
     "output_type": "stream",
     "text": [
      "5\n"
     ]
    },
    {
     "name": "stdin",
     "output_type": "stream",
     "text": [
      "valur of b is: 5\n",
      "valur of c is: 5\n"
     ]
    },
    {
     "name": "stdout",
     "output_type": "stream",
     "text": [
      "5x^2+5x+5=0\n"
     ]
    }
   ],
   "source": [
    "a=int(input(\"enter the value of a\"))\n",
    "if a==0:\n",
    "    print(\"Please !! enter the valid input zero is not acceptable as per quadratic rule \")\n",
    "else:\n",
    "    pass\n",
    "    print(a)\n",
    "b=int(input(\"valur of b is:\"))\n",
    "c=int(input(\"valur of c is:\"))\n",
    "Equation= print(f\"{a}x^2+{b}x+{c}=0\")   "
   ]
  },
  {
   "cell_type": "markdown",
   "id": "c5c0f2cd-4af3-4a95-89ce-f4750bb60b0e",
   "metadata": {},
   "source": [
    "5.Write a Python program to swap two variables without temp variable?"
   ]
  },
  {
   "cell_type": "code",
   "execution_count": 4,
   "id": "cc70b177-5142-47bb-be25-fef0a57355de",
   "metadata": {},
   "outputs": [
    {
     "name": "stdout",
     "output_type": "stream",
     "text": [
      "Variables Value Before Swapping: \n",
      "Value of P:  112\n",
      "Value of Q:  211\n",
      "Variables Value After Swapping: \n",
      "Value of P:  211\n",
      "Value of Q:  112\n"
     ]
    }
   ],
   "source": [
    "P = 112  \n",
    "Q = 211  \n",
    "   \n",
    "print (\"Variables Value Before Swapping: \")  \n",
    "print (\"Value of P: \", P)   \n",
    "print (\"Value of Q: \", Q)  \n",
    "   \n",
    "\n",
    "P = P + Q \n",
    "Q = P - Q  \n",
    "P = P - Q \n",
    "   \n",
    "print (\"Variables Value After Swapping: \")  \n",
    "print (\"Value of P: \", P)   \n",
    "print (\"Value of Q: \", Q)  \n"
   ]
  },
  {
   "cell_type": "code",
   "execution_count": null,
   "id": "070480a0-108c-4a0a-9095-1e3e059f58d8",
   "metadata": {},
   "outputs": [],
   "source": []
  }
 ],
 "metadata": {
  "kernelspec": {
   "display_name": "Python 3 (ipykernel)",
   "language": "python",
   "name": "python3"
  },
  "language_info": {
   "codemirror_mode": {
    "name": "ipython",
    "version": 3
   },
   "file_extension": ".py",
   "mimetype": "text/x-python",
   "name": "python",
   "nbconvert_exporter": "python",
   "pygments_lexer": "ipython3",
   "version": "3.10.6"
  }
 },
 "nbformat": 4,
 "nbformat_minor": 5
}
